{
 "cells": [
  {
   "cell_type": "code",
   "execution_count": 1,
   "metadata": {
    "_uuid": "6413a13d8a260043bda237e211bd962582eb7ff2",
    "execution": {
     "iopub.execute_input": "2020-12-10T05:31:23.858672Z",
     "iopub.status.busy": "2020-12-10T05:31:23.857652Z",
     "iopub.status.idle": "2020-12-10T05:31:23.860993Z",
     "shell.execute_reply": "2020-12-10T05:31:23.860316Z"
    },
    "papermill": {
     "duration": 0.035776,
     "end_time": "2020-12-10T05:31:23.861120",
     "exception": false,
     "start_time": "2020-12-10T05:31:23.825344",
     "status": "completed"
    },
    "tags": []
   },
   "outputs": [],
   "source": [
    "import numpy as np\n",
    "import pandas as pd"
   ]
  },
  {
   "cell_type": "code",
   "execution_count": 2,
   "metadata": {
    "execution": {
     "iopub.execute_input": "2020-12-10T05:31:23.921905Z",
     "iopub.status.busy": "2020-12-10T05:31:23.920785Z",
     "iopub.status.idle": "2020-12-10T05:31:24.661252Z",
     "shell.execute_reply": "2020-12-10T05:31:24.660655Z"
    },
    "papermill": {
     "duration": 0.773504,
     "end_time": "2020-12-10T05:31:24.661378",
     "exception": false,
     "start_time": "2020-12-10T05:31:23.887874",
     "status": "completed"
    },
    "tags": []
   },
   "outputs": [
    {
     "name": "stdout",
     "output_type": "stream",
     "text": [
      "gender_submission.csv  test.csv  train.csv\r\n"
     ]
    }
   ],
   "source": [
    "!ls ../input/titanic"
   ]
  },
  {
   "cell_type": "code",
   "execution_count": 3,
   "metadata": {
    "_cell_guid": "9c963eb3-04ac-422c-bc0c-4373bda6880e",
    "_uuid": "95f406c4d2f1dab6744ea248b80e3a535c652450",
    "execution": {
     "iopub.execute_input": "2020-12-10T05:31:24.725280Z",
     "iopub.status.busy": "2020-12-10T05:31:24.724547Z",
     "iopub.status.idle": "2020-12-10T05:31:24.764163Z",
     "shell.execute_reply": "2020-12-10T05:31:24.763351Z"
    },
    "papermill": {
     "duration": 0.074791,
     "end_time": "2020-12-10T05:31:24.764296",
     "exception": false,
     "start_time": "2020-12-10T05:31:24.689505",
     "status": "completed"
    },
    "tags": []
   },
   "outputs": [],
   "source": [
    "train = pd.read_csv(\"../input/titanic/train.csv\")\n",
    "test = pd.read_csv(\"../input/titanic/test.csv\")\n",
    "gender_submission = pd.read_csv(\"../input/titanic/gender_submission.csv\")"
   ]
  },
  {
   "cell_type": "code",
   "execution_count": 4,
   "metadata": {
    "execution": {
     "iopub.execute_input": "2020-12-10T05:31:24.837854Z",
     "iopub.status.busy": "2020-12-10T05:31:24.836737Z",
     "iopub.status.idle": "2020-12-10T05:31:24.846157Z",
     "shell.execute_reply": "2020-12-10T05:31:24.845597Z"
    },
    "papermill": {
     "duration": 0.054002,
     "end_time": "2020-12-10T05:31:24.846277",
     "exception": false,
     "start_time": "2020-12-10T05:31:24.792275",
     "status": "completed"
    },
    "tags": []
   },
   "outputs": [
    {
     "data": {
      "text/html": [
       "<div>\n",
       "<style scoped>\n",
       "    .dataframe tbody tr th:only-of-type {\n",
       "        vertical-align: middle;\n",
       "    }\n",
       "\n",
       "    .dataframe tbody tr th {\n",
       "        vertical-align: top;\n",
       "    }\n",
       "\n",
       "    .dataframe thead th {\n",
       "        text-align: right;\n",
       "    }\n",
       "</style>\n",
       "<table border=\"1\" class=\"dataframe\">\n",
       "  <thead>\n",
       "    <tr style=\"text-align: right;\">\n",
       "      <th></th>\n",
       "      <th>PassengerId</th>\n",
       "      <th>Survived</th>\n",
       "    </tr>\n",
       "  </thead>\n",
       "  <tbody>\n",
       "    <tr>\n",
       "      <th>0</th>\n",
       "      <td>892</td>\n",
       "      <td>0</td>\n",
       "    </tr>\n",
       "    <tr>\n",
       "      <th>1</th>\n",
       "      <td>893</td>\n",
       "      <td>1</td>\n",
       "    </tr>\n",
       "    <tr>\n",
       "      <th>2</th>\n",
       "      <td>894</td>\n",
       "      <td>0</td>\n",
       "    </tr>\n",
       "    <tr>\n",
       "      <th>3</th>\n",
       "      <td>895</td>\n",
       "      <td>0</td>\n",
       "    </tr>\n",
       "    <tr>\n",
       "      <th>4</th>\n",
       "      <td>896</td>\n",
       "      <td>1</td>\n",
       "    </tr>\n",
       "  </tbody>\n",
       "</table>\n",
       "</div>"
      ],
      "text/plain": [
       "   PassengerId  Survived\n",
       "0          892         0\n",
       "1          893         1\n",
       "2          894         0\n",
       "3          895         0\n",
       "4          896         1"
      ]
     },
     "execution_count": 4,
     "metadata": {},
     "output_type": "execute_result"
    }
   ],
   "source": [
    "gender_submission.head()"
   ]
  },
  {
   "cell_type": "code",
   "execution_count": 5,
   "metadata": {
    "execution": {
     "iopub.execute_input": "2020-12-10T05:31:24.915567Z",
     "iopub.status.busy": "2020-12-10T05:31:24.914215Z",
     "iopub.status.idle": "2020-12-10T05:31:24.919027Z",
     "shell.execute_reply": "2020-12-10T05:31:24.918164Z"
    },
    "papermill": {
     "duration": 0.044883,
     "end_time": "2020-12-10T05:31:24.919197",
     "exception": false,
     "start_time": "2020-12-10T05:31:24.874314",
     "status": "completed"
    },
    "tags": []
   },
   "outputs": [],
   "source": [
    "data = pd.concat([train, test], sort=False)"
   ]
  },
  {
   "cell_type": "code",
   "execution_count": 6,
   "metadata": {
    "execution": {
     "iopub.execute_input": "2020-12-10T05:31:24.982198Z",
     "iopub.status.busy": "2020-12-10T05:31:24.981330Z",
     "iopub.status.idle": "2020-12-10T05:31:24.984650Z",
     "shell.execute_reply": "2020-12-10T05:31:24.985228Z"
    },
    "papermill": {
     "duration": 0.037393,
     "end_time": "2020-12-10T05:31:24.985373",
     "exception": false,
     "start_time": "2020-12-10T05:31:24.947980",
     "status": "completed"
    },
    "tags": []
   },
   "outputs": [
    {
     "name": "stdout",
     "output_type": "stream",
     "text": [
      "891\n",
      "418\n",
      "1309\n"
     ]
    }
   ],
   "source": [
    "print(len(train))\n",
    "print(len(test))\n",
    "print(len(data))"
   ]
  },
  {
   "cell_type": "code",
   "execution_count": 7,
   "metadata": {
    "execution": {
     "iopub.execute_input": "2020-12-10T05:31:25.052565Z",
     "iopub.status.busy": "2020-12-10T05:31:25.051717Z",
     "iopub.status.idle": "2020-12-10T05:31:25.056621Z",
     "shell.execute_reply": "2020-12-10T05:31:25.056018Z"
    },
    "papermill": {
     "duration": 0.042576,
     "end_time": "2020-12-10T05:31:25.056739",
     "exception": false,
     "start_time": "2020-12-10T05:31:25.014163",
     "status": "completed"
    },
    "tags": []
   },
   "outputs": [
    {
     "data": {
      "text/plain": [
       "PassengerId       0\n",
       "Survived        418\n",
       "Pclass            0\n",
       "Name              0\n",
       "Sex               0\n",
       "Age             263\n",
       "SibSp             0\n",
       "Parch             0\n",
       "Ticket            0\n",
       "Fare              1\n",
       "Cabin          1014\n",
       "Embarked          2\n",
       "dtype: int64"
      ]
     },
     "execution_count": 7,
     "metadata": {},
     "output_type": "execute_result"
    }
   ],
   "source": [
    "data.isnull().sum()"
   ]
  },
  {
   "cell_type": "code",
   "execution_count": 8,
   "metadata": {
    "execution": {
     "iopub.execute_input": "2020-12-10T05:31:25.120768Z",
     "iopub.status.busy": "2020-12-10T05:31:25.120029Z",
     "iopub.status.idle": "2020-12-10T05:31:26.106346Z",
     "shell.execute_reply": "2020-12-10T05:31:26.105465Z"
    },
    "papermill": {
     "duration": 1.020326,
     "end_time": "2020-12-10T05:31:26.106509",
     "exception": false,
     "start_time": "2020-12-10T05:31:25.086183",
     "status": "completed"
    },
    "tags": []
   },
   "outputs": [],
   "source": [
    "from sklearn import preprocessing\n",
    "le = preprocessing.LabelEncoder()"
   ]
  },
  {
   "cell_type": "code",
   "execution_count": null,
   "metadata": {
    "papermill": {
     "duration": 0.031086,
     "end_time": "2020-12-10T05:31:26.175973",
     "exception": false,
     "start_time": "2020-12-10T05:31:26.144887",
     "status": "completed"
    },
    "tags": []
   },
   "outputs": [],
   "source": []
  },
  {
   "cell_type": "code",
   "execution_count": 9,
   "metadata": {
    "execution": {
     "iopub.execute_input": "2020-12-10T05:31:26.246660Z",
     "iopub.status.busy": "2020-12-10T05:31:26.245591Z",
     "iopub.status.idle": "2020-12-10T05:31:26.249887Z",
     "shell.execute_reply": "2020-12-10T05:31:26.249248Z"
    },
    "papermill": {
     "duration": 0.044673,
     "end_time": "2020-12-10T05:31:26.250011",
     "exception": false,
     "start_time": "2020-12-10T05:31:26.205338",
     "status": "completed"
    },
    "tags": []
   },
   "outputs": [
    {
     "data": {
      "text/plain": [
       "0      0\n",
       "1      1\n",
       "2      1\n",
       "3      1\n",
       "4      0\n",
       "      ..\n",
       "413    0\n",
       "414    1\n",
       "415    0\n",
       "416    0\n",
       "417    0\n",
       "Name: sex_value, Length: 1309, dtype: int64"
      ]
     },
     "execution_count": 9,
     "metadata": {},
     "output_type": "execute_result"
    }
   ],
   "source": [
    "data['sex_value'] = data['Sex'].map( {'male':0, 'female':1} ).astype(int)\n",
    "#.replace(['male','female'], [0,1], inplace=True)\n",
    "#.map( {'male':0, 'female':1} ).astype(int)\n",
    "data['sex_value']"
   ]
  },
  {
   "cell_type": "code",
   "execution_count": 10,
   "metadata": {
    "execution": {
     "iopub.execute_input": "2020-12-10T05:31:26.320729Z",
     "iopub.status.busy": "2020-12-10T05:31:26.319813Z",
     "iopub.status.idle": "2020-12-10T05:31:26.324491Z",
     "shell.execute_reply": "2020-12-10T05:31:26.323757Z"
    },
    "papermill": {
     "duration": 0.044144,
     "end_time": "2020-12-10T05:31:26.324617",
     "exception": false,
     "start_time": "2020-12-10T05:31:26.280473",
     "status": "completed"
    },
    "tags": []
   },
   "outputs": [
    {
     "data": {
      "text/plain": [
       "0      1\n",
       "1      0\n",
       "2      0\n",
       "3      0\n",
       "4      1\n",
       "      ..\n",
       "413    1\n",
       "414    0\n",
       "415    1\n",
       "416    1\n",
       "417    1\n",
       "Name: sex_transform, Length: 1309, dtype: int64"
      ]
     },
     "execution_count": 10,
     "metadata": {},
     "output_type": "execute_result"
    }
   ],
   "source": [
    "le.fit(data['Sex'])\n",
    "data['sex_transform'] = le.transform(data['Sex'])\n",
    "data['sex_transform']"
   ]
  },
  {
   "cell_type": "code",
   "execution_count": 11,
   "metadata": {
    "execution": {
     "iopub.execute_input": "2020-12-10T05:31:26.395812Z",
     "iopub.status.busy": "2020-12-10T05:31:26.394978Z",
     "iopub.status.idle": "2020-12-10T05:31:26.398782Z",
     "shell.execute_reply": "2020-12-10T05:31:26.399302Z"
    },
    "papermill": {
     "duration": 0.043895,
     "end_time": "2020-12-10T05:31:26.399473",
     "exception": false,
     "start_time": "2020-12-10T05:31:26.355578",
     "status": "completed"
    },
    "tags": []
   },
   "outputs": [
    {
     "data": {
      "text/plain": [
       "0      0\n",
       "1      1\n",
       "2      1\n",
       "3      1\n",
       "4      0\n",
       "      ..\n",
       "413    0\n",
       "414    1\n",
       "415    0\n",
       "416    0\n",
       "417    0\n",
       "Name: sex_fact, Length: 1309, dtype: int64"
      ]
     },
     "execution_count": 11,
     "metadata": {},
     "output_type": "execute_result"
    }
   ],
   "source": [
    "data['sex_fact'] = data['Sex'].factorize()[0]\n",
    "data['sex_fact']"
   ]
  },
  {
   "cell_type": "code",
   "execution_count": null,
   "metadata": {
    "papermill": {
     "duration": 0.031005,
     "end_time": "2020-12-10T05:31:26.461793",
     "exception": false,
     "start_time": "2020-12-10T05:31:26.430788",
     "status": "completed"
    },
    "tags": []
   },
   "outputs": [],
   "source": []
  },
  {
   "cell_type": "code",
   "execution_count": 12,
   "metadata": {
    "execution": {
     "iopub.execute_input": "2020-12-10T05:31:26.532903Z",
     "iopub.status.busy": "2020-12-10T05:31:26.532115Z",
     "iopub.status.idle": "2020-12-10T05:31:26.558540Z",
     "shell.execute_reply": "2020-12-10T05:31:26.557944Z"
    },
    "papermill": {
     "duration": 0.065522,
     "end_time": "2020-12-10T05:31:26.558667",
     "exception": false,
     "start_time": "2020-12-10T05:31:26.493145",
     "status": "completed"
    },
    "tags": []
   },
   "outputs": [
    {
     "data": {
      "text/plain": [
       "0      0.220\n",
       "1      0.380\n",
       "2      0.260\n",
       "3      0.350\n",
       "4      0.350\n",
       "       ...  \n",
       "413    0.340\n",
       "414    0.390\n",
       "415    0.385\n",
       "416    0.340\n",
       "417    0.340\n",
       "Name: age_value, Length: 1309, dtype: float64"
      ]
     },
     "execution_count": 12,
     "metadata": {},
     "output_type": "execute_result"
    }
   ],
   "source": [
    "age_avg = data['Age'].mean()\n",
    "age_std = data['Age'].std()\n",
    "data['Age'].fillna(np.random.randint(age_avg - age_std, age_avg + age_std), inplace=True)\n",
    "data['age_value']=data['Age']/100\n",
    "data['age_value']"
   ]
  },
  {
   "cell_type": "code",
   "execution_count": 13,
   "metadata": {
    "execution": {
     "iopub.execute_input": "2020-12-10T05:31:26.632587Z",
     "iopub.status.busy": "2020-12-10T05:31:26.631845Z",
     "iopub.status.idle": "2020-12-10T05:31:26.641996Z",
     "shell.execute_reply": "2020-12-10T05:31:26.641358Z"
    },
    "papermill": {
     "duration": 0.05023,
     "end_time": "2020-12-10T05:31:26.642116",
     "exception": false,
     "start_time": "2020-12-10T05:31:26.591886",
     "status": "completed"
    },
    "tags": []
   },
   "outputs": [
    {
     "data": {
      "text/plain": [
       "0      32\n",
       "1      57\n",
       "2      39\n",
       "3      53\n",
       "4      53\n",
       "       ..\n",
       "413    51\n",
       "414    59\n",
       "415    58\n",
       "416    51\n",
       "417    51\n",
       "Name: age_transpose, Length: 1309, dtype: int64"
      ]
     },
     "execution_count": 13,
     "metadata": {},
     "output_type": "execute_result"
    }
   ],
   "source": [
    "age_avg = data['Age'].mean()\n",
    "age_std = data['Age'].std()\n",
    "data['Age'].fillna(np.random.randint(age_avg - age_std, age_avg + age_std), inplace=True)\n",
    "le.fit(data['Age'])\n",
    "data['age_transpose'] = le.transform(data['Age'])\n",
    "data['age_transpose']"
   ]
  },
  {
   "cell_type": "code",
   "execution_count": 14,
   "metadata": {
    "execution": {
     "iopub.execute_input": "2020-12-10T05:31:26.718462Z",
     "iopub.status.busy": "2020-12-10T05:31:26.717415Z",
     "iopub.status.idle": "2020-12-10T05:31:26.720860Z",
     "shell.execute_reply": "2020-12-10T05:31:26.721453Z"
    },
    "papermill": {
     "duration": 0.046852,
     "end_time": "2020-12-10T05:31:26.721606",
     "exception": false,
     "start_time": "2020-12-10T05:31:26.674754",
     "status": "completed"
    },
    "tags": []
   },
   "outputs": [
    {
     "data": {
      "text/plain": [
       "0      0.00\n",
       "1      0.01\n",
       "2      0.02\n",
       "3      0.03\n",
       "4      0.03\n",
       "       ... \n",
       "413    0.04\n",
       "414    0.12\n",
       "415    0.97\n",
       "416    0.04\n",
       "417    0.04\n",
       "Name: age_fact, Length: 1309, dtype: float64"
      ]
     },
     "execution_count": 14,
     "metadata": {},
     "output_type": "execute_result"
    }
   ],
   "source": [
    "data['age_fact'] = data['Age'].factorize()[0]/100\n",
    "data['age_fact']"
   ]
  },
  {
   "cell_type": "code",
   "execution_count": null,
   "metadata": {
    "papermill": {
     "duration": 0.033351,
     "end_time": "2020-12-10T05:31:26.788099",
     "exception": false,
     "start_time": "2020-12-10T05:31:26.754748",
     "status": "completed"
    },
    "tags": []
   },
   "outputs": [],
   "source": []
  },
  {
   "cell_type": "code",
   "execution_count": 15,
   "metadata": {
    "execution": {
     "iopub.execute_input": "2020-12-10T05:31:26.864666Z",
     "iopub.status.busy": "2020-12-10T05:31:26.863622Z",
     "iopub.status.idle": "2020-12-10T05:31:26.866988Z",
     "shell.execute_reply": "2020-12-10T05:31:26.867581Z"
    },
    "papermill": {
     "duration": 0.046445,
     "end_time": "2020-12-10T05:31:26.867732",
     "exception": false,
     "start_time": "2020-12-10T05:31:26.821287",
     "status": "completed"
    },
    "tags": []
   },
   "outputs": [
    {
     "data": {
      "text/plain": [
       "0      0.75\n",
       "1      0.25\n",
       "2      0.75\n",
       "3      0.25\n",
       "4      0.75\n",
       "       ... \n",
       "413    0.75\n",
       "414    0.25\n",
       "415    0.75\n",
       "416    0.75\n",
       "417    0.75\n",
       "Name: pclass_value, Length: 1309, dtype: float64"
      ]
     },
     "execution_count": 15,
     "metadata": {},
     "output_type": "execute_result"
    }
   ],
   "source": [
    "data['pclass_value'] = data['Pclass']/4\n",
    "data['pclass_value']"
   ]
  },
  {
   "cell_type": "code",
   "execution_count": 16,
   "metadata": {
    "execution": {
     "iopub.execute_input": "2020-12-10T05:31:26.944529Z",
     "iopub.status.busy": "2020-12-10T05:31:26.943705Z",
     "iopub.status.idle": "2020-12-10T05:31:26.952674Z",
     "shell.execute_reply": "2020-12-10T05:31:26.951947Z"
    },
    "papermill": {
     "duration": 0.050765,
     "end_time": "2020-12-10T05:31:26.952795",
     "exception": false,
     "start_time": "2020-12-10T05:31:26.902030",
     "status": "completed"
    },
    "tags": []
   },
   "outputs": [
    {
     "data": {
      "text/plain": [
       "0      0.5\n",
       "1      0.0\n",
       "2      0.5\n",
       "3      0.0\n",
       "4      0.5\n",
       "      ... \n",
       "413    0.5\n",
       "414    0.0\n",
       "415    0.5\n",
       "416    0.5\n",
       "417    0.5\n",
       "Name: pclass_transform, Length: 1309, dtype: float64"
      ]
     },
     "execution_count": 16,
     "metadata": {},
     "output_type": "execute_result"
    }
   ],
   "source": [
    "le.fit(data['Pclass'])\n",
    "data['pclass_transform']=le.transform(data['Pclass'])/4\n",
    "data['pclass_transform']"
   ]
  },
  {
   "cell_type": "code",
   "execution_count": 17,
   "metadata": {
    "execution": {
     "iopub.execute_input": "2020-12-10T05:31:27.031393Z",
     "iopub.status.busy": "2020-12-10T05:31:27.030498Z",
     "iopub.status.idle": "2020-12-10T05:31:27.035091Z",
     "shell.execute_reply": "2020-12-10T05:31:27.034423Z"
    },
    "papermill": {
     "duration": 0.047454,
     "end_time": "2020-12-10T05:31:27.035208",
     "exception": false,
     "start_time": "2020-12-10T05:31:26.987754",
     "status": "completed"
    },
    "tags": []
   },
   "outputs": [
    {
     "data": {
      "text/plain": [
       "0      0.00\n",
       "1      0.25\n",
       "2      0.00\n",
       "3      0.25\n",
       "4      0.00\n",
       "       ... \n",
       "413    0.00\n",
       "414    0.25\n",
       "415    0.00\n",
       "416    0.00\n",
       "417    0.00\n",
       "Name: pclass_fact, Length: 1309, dtype: float64"
      ]
     },
     "execution_count": 17,
     "metadata": {},
     "output_type": "execute_result"
    }
   ],
   "source": [
    "data['pclass_fact'] = data['Pclass'].factorize()[0]/4\n",
    "data['pclass_fact']"
   ]
  },
  {
   "cell_type": "code",
   "execution_count": null,
   "metadata": {
    "papermill": {
     "duration": 0.034625,
     "end_time": "2020-12-10T05:31:27.104908",
     "exception": false,
     "start_time": "2020-12-10T05:31:27.070283",
     "status": "completed"
    },
    "tags": []
   },
   "outputs": [],
   "source": []
  },
  {
   "cell_type": "code",
   "execution_count": 18,
   "metadata": {
    "_cell_guid": "d3f3527c-8758-41c2-bbe3-14b604b2d317",
    "_uuid": "f7341a6f089464180e94d5e09d1071e0350cff3d",
    "execution": {
     "iopub.execute_input": "2020-12-10T05:31:27.182820Z",
     "iopub.status.busy": "2020-12-10T05:31:27.182091Z",
     "iopub.status.idle": "2020-12-10T05:31:27.186567Z",
     "shell.execute_reply": "2020-12-10T05:31:27.187098Z"
    },
    "papermill": {
     "duration": 0.046944,
     "end_time": "2020-12-10T05:31:27.187268",
     "exception": false,
     "start_time": "2020-12-10T05:31:27.140324",
     "status": "completed"
    },
    "tags": []
   },
   "outputs": [],
   "source": [
    "delete_columns = ['PassengerId', 'Pclass', 'Name', 'Sex', 'Age', 'SibSp',\n",
    "       'Parch', 'Ticket', 'Fare', 'Cabin', 'Embarked', \n",
    "       'sex_transform', 'sex_fact',  'age_transpose', 'age_fact',\n",
    "       'pclass_value',  'pclass_fact']\n",
    "data.drop(delete_columns, axis=1, inplace=True)"
   ]
  },
  {
   "cell_type": "code",
   "execution_count": 19,
   "metadata": {
    "execution": {
     "iopub.execute_input": "2020-12-10T05:31:27.263953Z",
     "iopub.status.busy": "2020-12-10T05:31:27.263060Z",
     "iopub.status.idle": "2020-12-10T05:31:27.267088Z",
     "shell.execute_reply": "2020-12-10T05:31:27.267634Z"
    },
    "papermill": {
     "duration": 0.045043,
     "end_time": "2020-12-10T05:31:27.267783",
     "exception": false,
     "start_time": "2020-12-10T05:31:27.222740",
     "status": "completed"
    },
    "tags": []
   },
   "outputs": [
    {
     "data": {
      "text/plain": [
       "Index(['Survived', 'sex_value', 'age_value', 'pclass_transform'], dtype='object')"
      ]
     },
     "execution_count": 19,
     "metadata": {},
     "output_type": "execute_result"
    }
   ],
   "source": [
    "data.columns"
   ]
  },
  {
   "cell_type": "code",
   "execution_count": null,
   "metadata": {
    "papermill": {
     "duration": 0.035308,
     "end_time": "2020-12-10T05:31:27.338841",
     "exception": false,
     "start_time": "2020-12-10T05:31:27.303533",
     "status": "completed"
    },
    "tags": []
   },
   "outputs": [],
   "source": []
  },
  {
   "cell_type": "code",
   "execution_count": 20,
   "metadata": {
    "execution": {
     "iopub.execute_input": "2020-12-10T05:31:27.416245Z",
     "iopub.status.busy": "2020-12-10T05:31:27.415507Z",
     "iopub.status.idle": "2020-12-10T05:31:27.419042Z",
     "shell.execute_reply": "2020-12-10T05:31:27.418450Z"
    },
    "papermill": {
     "duration": 0.04466,
     "end_time": "2020-12-10T05:31:27.419168",
     "exception": false,
     "start_time": "2020-12-10T05:31:27.374508",
     "status": "completed"
    },
    "tags": []
   },
   "outputs": [],
   "source": [
    "train = data[:len(train)]\n",
    "test = data[len(train):]"
   ]
  },
  {
   "cell_type": "code",
   "execution_count": 21,
   "metadata": {
    "_cell_guid": "03d91a2b-08da-4593-8c1e-840fb7bec469",
    "_uuid": "768050e7f210d95ba28226ada778e763d21c97f8",
    "execution": {
     "iopub.execute_input": "2020-12-10T05:31:27.499131Z",
     "iopub.status.busy": "2020-12-10T05:31:27.498369Z",
     "iopub.status.idle": "2020-12-10T05:31:27.501848Z",
     "shell.execute_reply": "2020-12-10T05:31:27.501138Z"
    },
    "papermill": {
     "duration": 0.046825,
     "end_time": "2020-12-10T05:31:27.501964",
     "exception": false,
     "start_time": "2020-12-10T05:31:27.455139",
     "status": "completed"
    },
    "scrolled": true,
    "tags": []
   },
   "outputs": [],
   "source": [
    "y_train0 = train['Survived']\n",
    "X_train0 = train.drop('Survived', axis = 1)\n",
    "X_test0 = test.drop('Survived', axis = 1)"
   ]
  },
  {
   "cell_type": "code",
   "execution_count": 22,
   "metadata": {
    "execution": {
     "iopub.execute_input": "2020-12-10T05:31:27.580989Z",
     "iopub.status.busy": "2020-12-10T05:31:27.580027Z",
     "iopub.status.idle": "2020-12-10T05:31:27.582962Z",
     "shell.execute_reply": "2020-12-10T05:31:27.582308Z"
    },
    "papermill": {
     "duration": 0.044998,
     "end_time": "2020-12-10T05:31:27.583082",
     "exception": false,
     "start_time": "2020-12-10T05:31:27.538084",
     "status": "completed"
    },
    "tags": []
   },
   "outputs": [],
   "source": [
    "X = np.array(X_train0)\n",
    "y = np.array(y_train0)"
   ]
  }
 ],
 "metadata": {
  "kernelspec": {
   "display_name": "Python 3",
   "language": "python",
   "name": "python3"
  },
  "language_info": {
   "codemirror_mode": {
    "name": "ipython",
    "version": 3
   },
   "file_extension": ".py",
   "mimetype": "text/x-python",
   "name": "python",
   "nbconvert_exporter": "python",
   "pygments_lexer": "ipython3",
   "version": "3.6.10"
  },
  "papermill": {
   "duration": 10.484211,
   "end_time": "2020-12-10T05:31:29.349281",
   "environment_variables": {},
   "exception": null,
   "input_path": "__notebook__.ipynb",
   "output_path": "__notebook__.ipynb",
   "parameters": {},
   "start_time": "2020-12-10T05:31:18.865070",
   "version": "2.1.0"
  }
 },
 "nbformat": 4,
 "nbformat_minor": 4
}
