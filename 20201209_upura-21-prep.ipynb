{
 "cells": [
  {
   "cell_type": "code",
   "execution_count": 1,
   "metadata": {
    "_uuid": "6413a13d8a260043bda237e211bd962582eb7ff2",
    "execution": {
     "iopub.execute_input": "2020-12-04T05:02:21.676227Z",
     "iopub.status.busy": "2020-12-04T05:02:21.675178Z",
     "iopub.status.idle": "2020-12-04T05:02:21.678432Z",
     "shell.execute_reply": "2020-12-04T05:02:21.677748Z"
    },
    "papermill": {
     "duration": 0.030018,
     "end_time": "2020-12-04T05:02:21.678561",
     "exception": false,
     "start_time": "2020-12-04T05:02:21.648543",
     "status": "completed"
    },
    "tags": []
   },
   "outputs": [],
   "source": [
    "import numpy as np\n",
    "import pandas as pd"
   ]
  },
  {
   "cell_type": "code",
   "execution_count": 2,
   "metadata": {
    "execution": {
     "iopub.execute_input": "2020-12-04T05:02:21.721461Z",
     "iopub.status.busy": "2020-12-04T05:02:21.720681Z",
     "iopub.status.idle": "2020-12-04T05:02:22.473341Z",
     "shell.execute_reply": "2020-12-04T05:02:22.472689Z"
    },
    "papermill": {
     "duration": 0.776218,
     "end_time": "2020-12-04T05:02:22.473490",
     "exception": false,
     "start_time": "2020-12-04T05:02:21.697272",
     "status": "completed"
    },
    "tags": []
   },
   "outputs": [
    {
     "name": "stdout",
     "output_type": "stream",
     "text": [
      "gender_submission.csv  test.csv  train.csv\r\n"
     ]
    }
   ],
   "source": [
    "!ls ../input/titanic"
   ]
  },
  {
   "cell_type": "code",
   "execution_count": 3,
   "metadata": {
    "_cell_guid": "9c963eb3-04ac-422c-bc0c-4373bda6880e",
    "_uuid": "95f406c4d2f1dab6744ea248b80e3a535c652450",
    "execution": {
     "iopub.execute_input": "2020-12-04T05:02:22.520150Z",
     "iopub.status.busy": "2020-12-04T05:02:22.519367Z",
     "iopub.status.idle": "2020-12-04T05:02:22.554147Z",
     "shell.execute_reply": "2020-12-04T05:02:22.553259Z"
    },
    "papermill": {
     "duration": 0.061351,
     "end_time": "2020-12-04T05:02:22.554302",
     "exception": false,
     "start_time": "2020-12-04T05:02:22.492951",
     "status": "completed"
    },
    "tags": []
   },
   "outputs": [],
   "source": [
    "train = pd.read_csv(\"../input/titanic/train.csv\")\n",
    "test = pd.read_csv(\"../input/titanic/test.csv\")\n",
    "gender_submission = pd.read_csv(\"../input/titanic/gender_submission.csv\")"
   ]
  },
  {
   "cell_type": "code",
   "execution_count": 4,
   "metadata": {
    "execution": {
     "iopub.execute_input": "2020-12-04T05:02:22.611427Z",
     "iopub.status.busy": "2020-12-04T05:02:22.610365Z",
     "iopub.status.idle": "2020-12-04T05:02:22.620066Z",
     "shell.execute_reply": "2020-12-04T05:02:22.619318Z"
    },
    "papermill": {
     "duration": 0.045958,
     "end_time": "2020-12-04T05:02:22.620193",
     "exception": false,
     "start_time": "2020-12-04T05:02:22.574235",
     "status": "completed"
    },
    "tags": []
   },
   "outputs": [
    {
     "data": {
      "text/html": [
       "<div>\n",
       "<style scoped>\n",
       "    .dataframe tbody tr th:only-of-type {\n",
       "        vertical-align: middle;\n",
       "    }\n",
       "\n",
       "    .dataframe tbody tr th {\n",
       "        vertical-align: top;\n",
       "    }\n",
       "\n",
       "    .dataframe thead th {\n",
       "        text-align: right;\n",
       "    }\n",
       "</style>\n",
       "<table border=\"1\" class=\"dataframe\">\n",
       "  <thead>\n",
       "    <tr style=\"text-align: right;\">\n",
       "      <th></th>\n",
       "      <th>PassengerId</th>\n",
       "      <th>Survived</th>\n",
       "    </tr>\n",
       "  </thead>\n",
       "  <tbody>\n",
       "    <tr>\n",
       "      <th>0</th>\n",
       "      <td>892</td>\n",
       "      <td>0</td>\n",
       "    </tr>\n",
       "    <tr>\n",
       "      <th>1</th>\n",
       "      <td>893</td>\n",
       "      <td>1</td>\n",
       "    </tr>\n",
       "    <tr>\n",
       "      <th>2</th>\n",
       "      <td>894</td>\n",
       "      <td>0</td>\n",
       "    </tr>\n",
       "    <tr>\n",
       "      <th>3</th>\n",
       "      <td>895</td>\n",
       "      <td>0</td>\n",
       "    </tr>\n",
       "    <tr>\n",
       "      <th>4</th>\n",
       "      <td>896</td>\n",
       "      <td>1</td>\n",
       "    </tr>\n",
       "  </tbody>\n",
       "</table>\n",
       "</div>"
      ],
      "text/plain": [
       "   PassengerId  Survived\n",
       "0          892         0\n",
       "1          893         1\n",
       "2          894         0\n",
       "3          895         0\n",
       "4          896         1"
      ]
     },
     "execution_count": 4,
     "metadata": {},
     "output_type": "execute_result"
    }
   ],
   "source": [
    "gender_submission.head()"
   ]
  },
  {
   "cell_type": "code",
   "execution_count": 5,
   "metadata": {
    "execution": {
     "iopub.execute_input": "2020-12-04T05:02:22.674063Z",
     "iopub.status.busy": "2020-12-04T05:02:22.672755Z",
     "iopub.status.idle": "2020-12-04T05:02:22.678009Z",
     "shell.execute_reply": "2020-12-04T05:02:22.677255Z"
    },
    "papermill": {
     "duration": 0.038036,
     "end_time": "2020-12-04T05:02:22.678139",
     "exception": false,
     "start_time": "2020-12-04T05:02:22.640103",
     "status": "completed"
    },
    "tags": []
   },
   "outputs": [],
   "source": [
    "data = pd.concat([train, test], sort=False)"
   ]
  },
  {
   "cell_type": "code",
   "execution_count": 6,
   "metadata": {
    "execution": {
     "iopub.execute_input": "2020-12-04T05:02:22.725984Z",
     "iopub.status.busy": "2020-12-04T05:02:22.725192Z",
     "iopub.status.idle": "2020-12-04T05:02:22.729083Z",
     "shell.execute_reply": "2020-12-04T05:02:22.728334Z"
    },
    "papermill": {
     "duration": 0.030154,
     "end_time": "2020-12-04T05:02:22.729207",
     "exception": false,
     "start_time": "2020-12-04T05:02:22.699053",
     "status": "completed"
    },
    "tags": []
   },
   "outputs": [
    {
     "name": "stdout",
     "output_type": "stream",
     "text": [
      "891 418 1309\n"
     ]
    }
   ],
   "source": [
    "print(len(train), len(test), len(data))"
   ]
  },
  {
   "cell_type": "code",
   "execution_count": 7,
   "metadata": {
    "execution": {
     "iopub.execute_input": "2020-12-04T05:02:22.780697Z",
     "iopub.status.busy": "2020-12-04T05:02:22.777352Z",
     "iopub.status.idle": "2020-12-04T05:02:22.785578Z",
     "shell.execute_reply": "2020-12-04T05:02:22.784811Z"
    },
    "papermill": {
     "duration": 0.035853,
     "end_time": "2020-12-04T05:02:22.785703",
     "exception": false,
     "start_time": "2020-12-04T05:02:22.749850",
     "status": "completed"
    },
    "tags": []
   },
   "outputs": [
    {
     "data": {
      "text/plain": [
       "PassengerId       0\n",
       "Survived        418\n",
       "Pclass            0\n",
       "Name              0\n",
       "Sex               0\n",
       "Age             263\n",
       "SibSp             0\n",
       "Parch             0\n",
       "Ticket            0\n",
       "Fare              1\n",
       "Cabin          1014\n",
       "Embarked          2\n",
       "dtype: int64"
      ]
     },
     "execution_count": 7,
     "metadata": {},
     "output_type": "execute_result"
    }
   ],
   "source": [
    "data.isnull().sum()"
   ]
  },
  {
   "cell_type": "code",
   "execution_count": 8,
   "metadata": {
    "_cell_guid": "27c06d9c-61e1-4ba8-9cfc-81a2dd27390a",
    "_uuid": "07b661b256360d39ec561f465735042f37eee257",
    "execution": {
     "iopub.execute_input": "2020-12-04T05:02:22.838256Z",
     "iopub.status.busy": "2020-12-04T05:02:22.837302Z",
     "iopub.status.idle": "2020-12-04T05:02:22.840389Z",
     "shell.execute_reply": "2020-12-04T05:02:22.839772Z"
    },
    "papermill": {
     "duration": 0.033537,
     "end_time": "2020-12-04T05:02:22.840522",
     "exception": false,
     "start_time": "2020-12-04T05:02:22.806985",
     "status": "completed"
    },
    "tags": []
   },
   "outputs": [],
   "source": [
    "data['Sex'].replace(['male','female'], [0,1], inplace=True)"
   ]
  },
  {
   "cell_type": "code",
   "execution_count": 9,
   "metadata": {
    "_cell_guid": "1329072e-5fc0-4aea-bc7b-ec7c27aff260",
    "_uuid": "5268b97889ec90508f501697d9e8d497398e0c46",
    "execution": {
     "iopub.execute_input": "2020-12-04T05:02:22.893306Z",
     "iopub.status.busy": "2020-12-04T05:02:22.892358Z",
     "iopub.status.idle": "2020-12-04T05:02:22.895947Z",
     "shell.execute_reply": "2020-12-04T05:02:22.895187Z"
    },
    "papermill": {
     "duration": 0.034129,
     "end_time": "2020-12-04T05:02:22.896076",
     "exception": false,
     "start_time": "2020-12-04T05:02:22.861947",
     "status": "completed"
    },
    "tags": []
   },
   "outputs": [],
   "source": [
    "data['Embarked'].fillna(('S'), inplace=True)\n",
    "data['Embarked'] = data['Embarked'].map( {'S': 0, 'C': 1, 'Q': 2} ).astype(int)"
   ]
  },
  {
   "cell_type": "code",
   "execution_count": 10,
   "metadata": {
    "_cell_guid": "fd9b2edd-cf75-4ad8-a100-5ca06cb53f7b",
    "_uuid": "161a7a829ad6a45b7745655b1713888a6778818f",
    "execution": {
     "iopub.execute_input": "2020-12-04T05:02:22.947764Z",
     "iopub.status.busy": "2020-12-04T05:02:22.946841Z",
     "iopub.status.idle": "2020-12-04T05:02:22.971870Z",
     "shell.execute_reply": "2020-12-04T05:02:22.971162Z"
    },
    "papermill": {
     "duration": 0.053595,
     "end_time": "2020-12-04T05:02:22.971999",
     "exception": false,
     "start_time": "2020-12-04T05:02:22.918404",
     "status": "completed"
    },
    "tags": []
   },
   "outputs": [],
   "source": [
    "data['Fare'].fillna(np.mean(data['Fare']), inplace=True)\n",
    "data['fare_value']=data['Fare']/50"
   ]
  },
  {
   "cell_type": "code",
   "execution_count": 11,
   "metadata": {
    "_cell_guid": "5717373d-91ce-4cfd-a579-ef7dab192771",
    "_uuid": "42f1ebda5705d5272ea350bfd00e66c2f946a66e",
    "execution": {
     "iopub.execute_input": "2020-12-04T05:02:23.025229Z",
     "iopub.status.busy": "2020-12-04T05:02:23.024444Z",
     "iopub.status.idle": "2020-12-04T05:02:23.027606Z",
     "shell.execute_reply": "2020-12-04T05:02:23.026907Z"
    },
    "papermill": {
     "duration": 0.033878,
     "end_time": "2020-12-04T05:02:23.027734",
     "exception": false,
     "start_time": "2020-12-04T05:02:22.993856",
     "status": "completed"
    },
    "tags": []
   },
   "outputs": [],
   "source": [
    "age_avg = data['Age'].mean()\n",
    "age_std = data['Age'].std()\n",
    "data['Age'].fillna(np.random.randint(age_avg - age_std, age_avg + age_std), inplace=True)\n",
    "data['age_value']=data['Age']/50"
   ]
  },
  {
   "cell_type": "code",
   "execution_count": 12,
   "metadata": {
    "execution": {
     "iopub.execute_input": "2020-12-04T05:02:23.079855Z",
     "iopub.status.busy": "2020-12-04T05:02:23.078859Z",
     "iopub.status.idle": "2020-12-04T05:02:23.081671Z",
     "shell.execute_reply": "2020-12-04T05:02:23.081042Z"
    },
    "papermill": {
     "duration": 0.032045,
     "end_time": "2020-12-04T05:02:23.081801",
     "exception": false,
     "start_time": "2020-12-04T05:02:23.049756",
     "status": "completed"
    },
    "tags": []
   },
   "outputs": [],
   "source": [
    "data['family'] = (data['SibSp']+data['Parch'])/5 "
   ]
  },
  {
   "cell_type": "code",
   "execution_count": 13,
   "metadata": {
    "execution": {
     "iopub.execute_input": "2020-12-04T05:02:23.134630Z",
     "iopub.status.busy": "2020-12-04T05:02:23.133669Z",
     "iopub.status.idle": "2020-12-04T05:02:23.138766Z",
     "shell.execute_reply": "2020-12-04T05:02:23.139347Z"
    },
    "papermill": {
     "duration": 0.035483,
     "end_time": "2020-12-04T05:02:23.139514",
     "exception": false,
     "start_time": "2020-12-04T05:02:23.104031",
     "status": "completed"
    },
    "tags": []
   },
   "outputs": [],
   "source": [
    "data['isAlone'] = 0\n",
    "data.loc[data['family'] > 0, 'isAlone'] = 1"
   ]
  },
  {
   "cell_type": "code",
   "execution_count": 14,
   "metadata": {
    "_cell_guid": "d3f3527c-8758-41c2-bbe3-14b604b2d317",
    "_uuid": "f7341a6f089464180e94d5e09d1071e0350cff3d",
    "execution": {
     "iopub.execute_input": "2020-12-04T05:02:23.192494Z",
     "iopub.status.busy": "2020-12-04T05:02:23.191699Z",
     "iopub.status.idle": "2020-12-04T05:02:23.195412Z",
     "shell.execute_reply": "2020-12-04T05:02:23.194647Z"
    },
    "papermill": {
     "duration": 0.033459,
     "end_time": "2020-12-04T05:02:23.195538",
     "exception": false,
     "start_time": "2020-12-04T05:02:23.162079",
     "status": "completed"
    },
    "tags": []
   },
   "outputs": [],
   "source": [
    "delete_columns = ['Name','PassengerId','SibSp','Parch','Ticket','Cabin','Age','Fare']\n",
    "data.drop(delete_columns, axis=1, inplace=True)"
   ]
  },
  {
   "cell_type": "code",
   "execution_count": 15,
   "metadata": {
    "execution": {
     "iopub.execute_input": "2020-12-04T05:02:23.248056Z",
     "iopub.status.busy": "2020-12-04T05:02:23.247252Z",
     "iopub.status.idle": "2020-12-04T05:02:23.250918Z",
     "shell.execute_reply": "2020-12-04T05:02:23.250204Z"
    },
    "papermill": {
     "duration": 0.032387,
     "end_time": "2020-12-04T05:02:23.251054",
     "exception": false,
     "start_time": "2020-12-04T05:02:23.218667",
     "status": "completed"
    },
    "tags": []
   },
   "outputs": [],
   "source": [
    "train = data[:len(train)]\n",
    "test = data[len(train):]"
   ]
  },
  {
   "cell_type": "code",
   "execution_count": 16,
   "metadata": {
    "_cell_guid": "03d91a2b-08da-4593-8c1e-840fb7bec469",
    "_uuid": "768050e7f210d95ba28226ada778e763d21c97f8",
    "execution": {
     "iopub.execute_input": "2020-12-04T05:02:23.307138Z",
     "iopub.status.busy": "2020-12-04T05:02:23.306157Z",
     "iopub.status.idle": "2020-12-04T05:02:23.309943Z",
     "shell.execute_reply": "2020-12-04T05:02:23.309100Z"
    },
    "papermill": {
     "duration": 0.035498,
     "end_time": "2020-12-04T05:02:23.310086",
     "exception": false,
     "start_time": "2020-12-04T05:02:23.274588",
     "status": "completed"
    },
    "scrolled": true,
    "tags": []
   },
   "outputs": [],
   "source": [
    "y_train0 = train['Survived']\n",
    "X_train0 = train.drop('Survived', axis = 1)\n",
    "X_test0 = test.drop('Survived', axis = 1)"
   ]
  },
  {
   "cell_type": "code",
   "execution_count": 17,
   "metadata": {
    "execution": {
     "iopub.execute_input": "2020-12-04T05:02:23.363447Z",
     "iopub.status.busy": "2020-12-04T05:02:23.362604Z",
     "iopub.status.idle": "2020-12-04T05:02:23.366361Z",
     "shell.execute_reply": "2020-12-04T05:02:23.365551Z"
    },
    "papermill": {
     "duration": 0.032955,
     "end_time": "2020-12-04T05:02:23.366490",
     "exception": false,
     "start_time": "2020-12-04T05:02:23.333535",
     "status": "completed"
    },
    "tags": []
   },
   "outputs": [],
   "source": [
    "X = np.array(X_train0)\n",
    "y = np.array(y_train0)"
   ]
  }
 ],
 "metadata": {
  "kernelspec": {
   "display_name": "Python 3",
   "language": "python",
   "name": "python3"
  },
  "language_info": {
   "codemirror_mode": {
    "name": "ipython",
    "version": 3
   },
   "file_extension": ".py",
   "mimetype": "text/x-python",
   "name": "python",
   "nbconvert_exporter": "python",
   "pygments_lexer": "ipython3",
   "version": "3.6.10"
  },
  "papermill": {
   "duration": 23.54587,
   "end_time": "2020-12-04T05:02:40.087084",
   "environment_variables": {},
   "exception": null,
   "input_path": "__notebook__.ipynb",
   "output_path": "__notebook__.ipynb",
   "parameters": {},
   "start_time": "2020-12-04T05:02:16.541214",
   "version": "2.1.0"
  }
 },
 "nbformat": 4,
 "nbformat_minor": 4
}
