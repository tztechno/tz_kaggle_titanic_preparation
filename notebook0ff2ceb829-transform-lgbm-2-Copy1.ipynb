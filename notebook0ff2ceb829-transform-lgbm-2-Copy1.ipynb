{
 "cells": [
  {
   "cell_type": "code",
   "execution_count": 1,
   "metadata": {
    "_uuid": "6413a13d8a260043bda237e211bd962582eb7ff2",
    "execution": {
     "iopub.execute_input": "2020-12-08T16:12:33.780156Z",
     "iopub.status.busy": "2020-12-08T16:12:33.779366Z",
     "iopub.status.idle": "2020-12-08T16:12:33.782557Z",
     "shell.execute_reply": "2020-12-08T16:12:33.783139Z"
    },
    "papermill": {
     "duration": 0.033448,
     "end_time": "2020-12-08T16:12:33.783374",
     "exception": false,
     "start_time": "2020-12-08T16:12:33.749926",
     "status": "completed"
    },
    "tags": []
   },
   "outputs": [],
   "source": [
    "import numpy as np\n",
    "import pandas as pd"
   ]
  },
  {
   "cell_type": "code",
   "execution_count": 2,
   "metadata": {
    "execution": {
     "iopub.execute_input": "2020-12-08T16:12:33.835759Z",
     "iopub.status.busy": "2020-12-08T16:12:33.834964Z",
     "iopub.status.idle": "2020-12-08T16:12:34.575586Z",
     "shell.execute_reply": "2020-12-08T16:12:34.574699Z"
    },
    "papermill": {
     "duration": 0.768765,
     "end_time": "2020-12-08T16:12:34.575730",
     "exception": false,
     "start_time": "2020-12-08T16:12:33.806965",
     "status": "completed"
    },
    "tags": []
   },
   "outputs": [
    {
     "name": "stdout",
     "output_type": "stream",
     "text": [
      "gender_submission.csv  test.csv  train.csv\r\n"
     ]
    }
   ],
   "source": [
    "!ls ../input/titanic"
   ]
  },
  {
   "cell_type": "code",
   "execution_count": 3,
   "metadata": {
    "_cell_guid": "9c963eb3-04ac-422c-bc0c-4373bda6880e",
    "_uuid": "95f406c4d2f1dab6744ea248b80e3a535c652450",
    "execution": {
     "iopub.execute_input": "2020-12-08T16:12:34.631245Z",
     "iopub.status.busy": "2020-12-08T16:12:34.630305Z",
     "iopub.status.idle": "2020-12-08T16:12:34.665407Z",
     "shell.execute_reply": "2020-12-08T16:12:34.664526Z"
    },
    "papermill": {
     "duration": 0.066195,
     "end_time": "2020-12-08T16:12:34.665595",
     "exception": false,
     "start_time": "2020-12-08T16:12:34.599400",
     "status": "completed"
    },
    "tags": []
   },
   "outputs": [],
   "source": [
    "train = pd.read_csv(\"../input/titanic/train.csv\")\n",
    "test = pd.read_csv(\"../input/titanic/test.csv\")\n",
    "gender_submission = pd.read_csv(\"../input/titanic/gender_submission.csv\")"
   ]
  },
  {
   "cell_type": "code",
   "execution_count": 4,
   "metadata": {
    "execution": {
     "iopub.execute_input": "2020-12-08T16:12:34.730151Z",
     "iopub.status.busy": "2020-12-08T16:12:34.729297Z",
     "iopub.status.idle": "2020-12-08T16:12:34.740292Z",
     "shell.execute_reply": "2020-12-08T16:12:34.739438Z"
    },
    "papermill": {
     "duration": 0.050942,
     "end_time": "2020-12-08T16:12:34.740439",
     "exception": false,
     "start_time": "2020-12-08T16:12:34.689497",
     "status": "completed"
    },
    "tags": []
   },
   "outputs": [
    {
     "data": {
      "text/html": [
       "<div>\n",
       "<style scoped>\n",
       "    .dataframe tbody tr th:only-of-type {\n",
       "        vertical-align: middle;\n",
       "    }\n",
       "\n",
       "    .dataframe tbody tr th {\n",
       "        vertical-align: top;\n",
       "    }\n",
       "\n",
       "    .dataframe thead th {\n",
       "        text-align: right;\n",
       "    }\n",
       "</style>\n",
       "<table border=\"1\" class=\"dataframe\">\n",
       "  <thead>\n",
       "    <tr style=\"text-align: right;\">\n",
       "      <th></th>\n",
       "      <th>PassengerId</th>\n",
       "      <th>Survived</th>\n",
       "    </tr>\n",
       "  </thead>\n",
       "  <tbody>\n",
       "    <tr>\n",
       "      <th>0</th>\n",
       "      <td>892</td>\n",
       "      <td>0</td>\n",
       "    </tr>\n",
       "    <tr>\n",
       "      <th>1</th>\n",
       "      <td>893</td>\n",
       "      <td>1</td>\n",
       "    </tr>\n",
       "    <tr>\n",
       "      <th>2</th>\n",
       "      <td>894</td>\n",
       "      <td>0</td>\n",
       "    </tr>\n",
       "    <tr>\n",
       "      <th>3</th>\n",
       "      <td>895</td>\n",
       "      <td>0</td>\n",
       "    </tr>\n",
       "    <tr>\n",
       "      <th>4</th>\n",
       "      <td>896</td>\n",
       "      <td>1</td>\n",
       "    </tr>\n",
       "  </tbody>\n",
       "</table>\n",
       "</div>"
      ],
      "text/plain": [
       "   PassengerId  Survived\n",
       "0          892         0\n",
       "1          893         1\n",
       "2          894         0\n",
       "3          895         0\n",
       "4          896         1"
      ]
     },
     "execution_count": 4,
     "metadata": {},
     "output_type": "execute_result"
    }
   ],
   "source": [
    "gender_submission.head()"
   ]
  },
  {
   "cell_type": "code",
   "execution_count": 5,
   "metadata": {
    "execution": {
     "iopub.execute_input": "2020-12-08T16:12:34.803932Z",
     "iopub.status.busy": "2020-12-08T16:12:34.800269Z",
     "iopub.status.idle": "2020-12-08T16:12:34.808117Z",
     "shell.execute_reply": "2020-12-08T16:12:34.807459Z"
    },
    "papermill": {
     "duration": 0.043701,
     "end_time": "2020-12-08T16:12:34.808285",
     "exception": false,
     "start_time": "2020-12-08T16:12:34.764584",
     "status": "completed"
    },
    "tags": []
   },
   "outputs": [],
   "source": [
    "data = pd.concat([train, test], sort=False)"
   ]
  },
  {
   "cell_type": "code",
   "execution_count": 6,
   "metadata": {
    "execution": {
     "iopub.execute_input": "2020-12-08T16:12:34.863891Z",
     "iopub.status.busy": "2020-12-08T16:12:34.862898Z",
     "iopub.status.idle": "2020-12-08T16:12:34.866531Z",
     "shell.execute_reply": "2020-12-08T16:12:34.867156Z"
    },
    "papermill": {
     "duration": 0.034864,
     "end_time": "2020-12-08T16:12:34.867345",
     "exception": false,
     "start_time": "2020-12-08T16:12:34.832481",
     "status": "completed"
    },
    "tags": []
   },
   "outputs": [
    {
     "name": "stdout",
     "output_type": "stream",
     "text": [
      "891 418 1309\n"
     ]
    }
   ],
   "source": [
    "print(len(train), len(test), len(data))"
   ]
  },
  {
   "cell_type": "code",
   "execution_count": 7,
   "metadata": {
    "execution": {
     "iopub.execute_input": "2020-12-08T16:12:34.928790Z",
     "iopub.status.busy": "2020-12-08T16:12:34.927524Z",
     "iopub.status.idle": "2020-12-08T16:12:34.932327Z",
     "shell.execute_reply": "2020-12-08T16:12:34.931522Z"
    },
    "papermill": {
     "duration": 0.040327,
     "end_time": "2020-12-08T16:12:34.932474",
     "exception": false,
     "start_time": "2020-12-08T16:12:34.892147",
     "status": "completed"
    },
    "tags": []
   },
   "outputs": [
    {
     "data": {
      "text/plain": [
       "PassengerId       0\n",
       "Survived        418\n",
       "Pclass            0\n",
       "Name              0\n",
       "Sex               0\n",
       "Age             263\n",
       "SibSp             0\n",
       "Parch             0\n",
       "Ticket            0\n",
       "Fare              1\n",
       "Cabin          1014\n",
       "Embarked          2\n",
       "dtype: int64"
      ]
     },
     "execution_count": 7,
     "metadata": {},
     "output_type": "execute_result"
    }
   ],
   "source": [
    "data.isnull().sum()"
   ]
  },
  {
   "cell_type": "code",
   "execution_count": 8,
   "metadata": {
    "execution": {
     "iopub.execute_input": "2020-12-08T16:12:34.989775Z",
     "iopub.status.busy": "2020-12-08T16:12:34.988863Z",
     "iopub.status.idle": "2020-12-08T16:12:36.123995Z",
     "shell.execute_reply": "2020-12-08T16:12:36.123322Z"
    },
    "papermill": {
     "duration": 1.166124,
     "end_time": "2020-12-08T16:12:36.124125",
     "exception": false,
     "start_time": "2020-12-08T16:12:34.958001",
     "status": "completed"
    },
    "tags": []
   },
   "outputs": [],
   "source": [
    "from sklearn import preprocessing\n",
    "le = preprocessing.LabelEncoder()"
   ]
  },
  {
   "cell_type": "code",
   "execution_count": 9,
   "metadata": {
    "execution": {
     "iopub.execute_input": "2020-12-08T16:12:36.183083Z",
     "iopub.status.busy": "2020-12-08T16:12:36.182098Z",
     "iopub.status.idle": "2020-12-08T16:12:36.213047Z",
     "shell.execute_reply": "2020-12-08T16:12:36.212241Z"
    },
    "papermill": {
     "duration": 0.063379,
     "end_time": "2020-12-08T16:12:36.213220",
     "exception": false,
     "start_time": "2020-12-08T16:12:36.149841",
     "status": "completed"
    },
    "tags": []
   },
   "outputs": [
    {
     "data": {
      "text/plain": [
       "0      1.000000\n",
       "1      0.333333\n",
       "2      1.000000\n",
       "3      0.333333\n",
       "4      1.000000\n",
       "         ...   \n",
       "413    1.000000\n",
       "414    0.333333\n",
       "415    1.000000\n",
       "416    1.000000\n",
       "417    1.000000\n",
       "Name: pclass_value, Length: 1309, dtype: float64"
      ]
     },
     "execution_count": 9,
     "metadata": {},
     "output_type": "execute_result"
    }
   ],
   "source": [
    "data['pclass_value']=data['Pclass']/3\n",
    "data['pclass_value']"
   ]
  },
  {
   "cell_type": "code",
   "execution_count": 10,
   "metadata": {
    "_cell_guid": "27c06d9c-61e1-4ba8-9cfc-81a2dd27390a",
    "_uuid": "07b661b256360d39ec561f465735042f37eee257",
    "execution": {
     "iopub.execute_input": "2020-12-08T16:12:36.276953Z",
     "iopub.status.busy": "2020-12-08T16:12:36.275972Z",
     "iopub.status.idle": "2020-12-08T16:12:36.280678Z",
     "shell.execute_reply": "2020-12-08T16:12:36.279958Z"
    },
    "papermill": {
     "duration": 0.041172,
     "end_time": "2020-12-08T16:12:36.280806",
     "exception": false,
     "start_time": "2020-12-08T16:12:36.239634",
     "status": "completed"
    },
    "tags": []
   },
   "outputs": [
    {
     "data": {
      "text/plain": [
       "0      1\n",
       "1      0\n",
       "2      0\n",
       "3      0\n",
       "4      1\n",
       "      ..\n",
       "413    1\n",
       "414    0\n",
       "415    1\n",
       "416    1\n",
       "417    1\n",
       "Name: sex_transform, Length: 1309, dtype: int64"
      ]
     },
     "execution_count": 10,
     "metadata": {},
     "output_type": "execute_result"
    }
   ],
   "source": [
    "le.fit(data['Sex'])\n",
    "data['sex_transform'] = le.transform(data['Sex'])\n",
    "data['sex_transform']"
   ]
  },
  {
   "cell_type": "code",
   "execution_count": 11,
   "metadata": {
    "execution": {
     "iopub.execute_input": "2020-12-08T16:12:36.347571Z",
     "iopub.status.busy": "2020-12-08T16:12:36.346465Z",
     "iopub.status.idle": "2020-12-08T16:12:36.350771Z",
     "shell.execute_reply": "2020-12-08T16:12:36.350142Z"
    },
    "papermill": {
     "duration": 0.043486,
     "end_time": "2020-12-08T16:12:36.350909",
     "exception": false,
     "start_time": "2020-12-08T16:12:36.307423",
     "status": "completed"
    },
    "tags": []
   },
   "outputs": [
    {
     "data": {
      "text/plain": [
       "0      1.0\n",
       "1      0.0\n",
       "2      1.0\n",
       "3      1.0\n",
       "4      1.0\n",
       "      ... \n",
       "413    1.0\n",
       "414    0.0\n",
       "415    1.0\n",
       "416    1.0\n",
       "417    0.0\n",
       "Name: embarked_transform, Length: 1309, dtype: float64"
      ]
     },
     "execution_count": 11,
     "metadata": {},
     "output_type": "execute_result"
    }
   ],
   "source": [
    "data['Embarked'].fillna(('P'), inplace=True)\n",
    "le.fit(data['Embarked'])\n",
    "data['embarked_transform'] = le.transform(data['Embarked'])/3\n",
    "data['embarked_transform']"
   ]
  },
  {
   "cell_type": "code",
   "execution_count": 12,
   "metadata": {
    "execution": {
     "iopub.execute_input": "2020-12-08T16:12:36.416182Z",
     "iopub.status.busy": "2020-12-08T16:12:36.415351Z",
     "iopub.status.idle": "2020-12-08T16:12:36.427111Z",
     "shell.execute_reply": "2020-12-08T16:12:36.426413Z"
    },
    "papermill": {
     "duration": 0.048243,
     "end_time": "2020-12-08T16:12:36.427263",
     "exception": false,
     "start_time": "2020-12-08T16:12:36.379020",
     "status": "completed"
    },
    "tags": []
   },
   "outputs": [
    {
     "data": {
      "text/plain": [
       "0      0.040\n",
       "1      0.474\n",
       "2      0.100\n",
       "3      0.434\n",
       "4      0.104\n",
       "       ...  \n",
       "413    0.104\n",
       "414    0.522\n",
       "415    0.040\n",
       "416    0.104\n",
       "417    0.292\n",
       "Name: fare_transpose, Length: 1309, dtype: float64"
      ]
     },
     "execution_count": 12,
     "metadata": {},
     "output_type": "execute_result"
    }
   ],
   "source": [
    "age_avg = data['Fare'].mean()\n",
    "age_std = data['Fare'].std()\n",
    "data['Fare'].fillna(np.random.randint(age_avg - age_std, age_avg + age_std), inplace=True)\n",
    "le.fit(data['Fare'])\n",
    "data['fare_transpose'] = le.transform(data['Fare'])/500\n",
    "data['fare_transpose']"
   ]
  },
  {
   "cell_type": "code",
   "execution_count": 13,
   "metadata": {
    "execution": {
     "iopub.execute_input": "2020-12-08T16:12:36.493866Z",
     "iopub.status.busy": "2020-12-08T16:12:36.492977Z",
     "iopub.status.idle": "2020-12-08T16:12:36.502948Z",
     "shell.execute_reply": "2020-12-08T16:12:36.502094Z"
    },
    "papermill": {
     "duration": 0.047184,
     "end_time": "2020-12-08T16:12:36.503088",
     "exception": false,
     "start_time": "2020-12-08T16:12:36.455904",
     "status": "completed"
    },
    "tags": []
   },
   "outputs": [
    {
     "data": {
      "text/plain": [
       "0      0.4000\n",
       "1      0.7125\n",
       "2      0.4875\n",
       "3      0.6625\n",
       "4      0.6625\n",
       "        ...  \n",
       "413    0.6250\n",
       "414    0.7375\n",
       "415    0.7250\n",
       "416    0.6250\n",
       "417    0.6250\n",
       "Name: age_transpose, Length: 1309, dtype: float64"
      ]
     },
     "execution_count": 13,
     "metadata": {},
     "output_type": "execute_result"
    }
   ],
   "source": [
    "age_avg = data['Age'].mean()\n",
    "age_std = data['Age'].std()\n",
    "data['Age'].fillna(np.random.randint(age_avg - age_std, age_avg + age_std), inplace=True)\n",
    "le.fit(data['Age'])\n",
    "data['age_transpose'] = le.transform(data['Age'])/80\n",
    "data['age_transpose']"
   ]
  },
  {
   "cell_type": "code",
   "execution_count": 14,
   "metadata": {
    "execution": {
     "iopub.execute_input": "2020-12-08T16:12:36.569984Z",
     "iopub.status.busy": "2020-12-08T16:12:36.569127Z",
     "iopub.status.idle": "2020-12-08T16:12:36.572938Z",
     "shell.execute_reply": "2020-12-08T16:12:36.572300Z"
    },
    "papermill": {
     "duration": 0.04074,
     "end_time": "2020-12-08T16:12:36.573067",
     "exception": false,
     "start_time": "2020-12-08T16:12:36.532327",
     "status": "completed"
    },
    "tags": []
   },
   "outputs": [],
   "source": [
    "data['family'] = (data['SibSp']+data['Parch'])/5 "
   ]
  },
  {
   "cell_type": "code",
   "execution_count": 15,
   "metadata": {
    "execution": {
     "iopub.execute_input": "2020-12-08T16:12:36.639893Z",
     "iopub.status.busy": "2020-12-08T16:12:36.639090Z",
     "iopub.status.idle": "2020-12-08T16:12:36.644261Z",
     "shell.execute_reply": "2020-12-08T16:12:36.643456Z"
    },
    "papermill": {
     "duration": 0.042501,
     "end_time": "2020-12-08T16:12:36.644400",
     "exception": false,
     "start_time": "2020-12-08T16:12:36.601899",
     "status": "completed"
    },
    "tags": []
   },
   "outputs": [],
   "source": [
    "data['isAlone'] = 0\n",
    "data.loc[data['family'] > 0, 'isAlone'] = 1"
   ]
  },
  {
   "cell_type": "code",
   "execution_count": 16,
   "metadata": {
    "_cell_guid": "d3f3527c-8758-41c2-bbe3-14b604b2d317",
    "_uuid": "f7341a6f089464180e94d5e09d1071e0350cff3d",
    "execution": {
     "iopub.execute_input": "2020-12-08T16:12:36.711746Z",
     "iopub.status.busy": "2020-12-08T16:12:36.710611Z",
     "iopub.status.idle": "2020-12-08T16:12:36.713826Z",
     "shell.execute_reply": "2020-12-08T16:12:36.714415Z"
    },
    "papermill": {
     "duration": 0.041435,
     "end_time": "2020-12-08T16:12:36.714591",
     "exception": false,
     "start_time": "2020-12-08T16:12:36.673156",
     "status": "completed"
    },
    "tags": []
   },
   "outputs": [],
   "source": [
    "delete_columns = ['Name','PassengerId','SibSp','Parch','Ticket','Cabin',\n",
    "                  'Age','Fare','Embarked','Pclass', 'Sex',]\n",
    "data.drop(delete_columns, axis=1, inplace=True)"
   ]
  },
  {
   "cell_type": "code",
   "execution_count": 17,
   "metadata": {
    "execution": {
     "iopub.execute_input": "2020-12-08T16:12:36.782158Z",
     "iopub.status.busy": "2020-12-08T16:12:36.780964Z",
     "iopub.status.idle": "2020-12-08T16:12:36.785987Z",
     "shell.execute_reply": "2020-12-08T16:12:36.785173Z"
    },
    "papermill": {
     "duration": 0.040716,
     "end_time": "2020-12-08T16:12:36.786119",
     "exception": false,
     "start_time": "2020-12-08T16:12:36.745403",
     "status": "completed"
    },
    "tags": []
   },
   "outputs": [
    {
     "data": {
      "text/plain": [
       "Index(['Survived', 'pclass_value', 'sex_transform', 'embarked_transform',\n",
       "       'fare_transpose', 'age_transpose', 'family', 'isAlone'],\n",
       "      dtype='object')"
      ]
     },
     "execution_count": 17,
     "metadata": {},
     "output_type": "execute_result"
    }
   ],
   "source": [
    "data.columns"
   ]
  },
  {
   "cell_type": "code",
   "execution_count": null,
   "metadata": {
    "papermill": {
     "duration": 0.030157,
     "end_time": "2020-12-08T16:12:36.846800",
     "exception": false,
     "start_time": "2020-12-08T16:12:36.816643",
     "status": "completed"
    },
    "tags": []
   },
   "outputs": [],
   "source": []
  },
  {
   "cell_type": "code",
   "execution_count": 18,
   "metadata": {
    "execution": {
     "iopub.execute_input": "2020-12-08T16:12:36.914893Z",
     "iopub.status.busy": "2020-12-08T16:12:36.913982Z",
     "iopub.status.idle": "2020-12-08T16:12:36.917549Z",
     "shell.execute_reply": "2020-12-08T16:12:36.916851Z"
    },
    "papermill": {
     "duration": 0.040741,
     "end_time": "2020-12-08T16:12:36.917682",
     "exception": false,
     "start_time": "2020-12-08T16:12:36.876941",
     "status": "completed"
    },
    "tags": []
   },
   "outputs": [],
   "source": [
    "train = data[:len(train)]\n",
    "test = data[len(train):]"
   ]
  },
  {
   "cell_type": "code",
   "execution_count": 19,
   "metadata": {
    "_cell_guid": "03d91a2b-08da-4593-8c1e-840fb7bec469",
    "_uuid": "768050e7f210d95ba28226ada778e763d21c97f8",
    "execution": {
     "iopub.execute_input": "2020-12-08T16:12:36.989311Z",
     "iopub.status.busy": "2020-12-08T16:12:36.988350Z",
     "iopub.status.idle": "2020-12-08T16:12:36.992113Z",
     "shell.execute_reply": "2020-12-08T16:12:36.991277Z"
    },
    "papermill": {
     "duration": 0.042711,
     "end_time": "2020-12-08T16:12:36.992302",
     "exception": false,
     "start_time": "2020-12-08T16:12:36.949591",
     "status": "completed"
    },
    "scrolled": true,
    "tags": []
   },
   "outputs": [],
   "source": [
    "y_train0 = train['Survived']\n",
    "X_train0 = train.drop('Survived', axis = 1)\n",
    "X_test0 = test.drop('Survived', axis = 1)"
   ]
  },
  {
   "cell_type": "code",
   "execution_count": 20,
   "metadata": {
    "execution": {
     "iopub.execute_input": "2020-12-08T16:12:37.058554Z",
     "iopub.status.busy": "2020-12-08T16:12:37.057698Z",
     "iopub.status.idle": "2020-12-08T16:12:37.061829Z",
     "shell.execute_reply": "2020-12-08T16:12:37.062428Z"
    },
    "papermill": {
     "duration": 0.040157,
     "end_time": "2020-12-08T16:12:37.062600",
     "exception": false,
     "start_time": "2020-12-08T16:12:37.022443",
     "status": "completed"
    },
    "tags": []
   },
   "outputs": [],
   "source": [
    "X = np.array(X_train0)\n",
    "y = np.array(y_train0)"
   ]
  }
 ],
 "metadata": {
  "kernelspec": {
   "display_name": "Python 3",
   "language": "python",
   "name": "python3"
  },
  "language_info": {
   "codemirror_mode": {
    "name": "ipython",
    "version": 3
   },
   "file_extension": ".py",
   "mimetype": "text/x-python",
   "name": "python",
   "nbconvert_exporter": "python",
   "pygments_lexer": "ipython3",
   "version": "3.6.10"
  },
  "papermill": {
   "duration": 10.806943,
   "end_time": "2020-12-08T16:12:38.699180",
   "environment_variables": {},
   "exception": null,
   "input_path": "__notebook__.ipynb",
   "output_path": "__notebook__.ipynb",
   "parameters": {},
   "start_time": "2020-12-08T16:12:27.892237",
   "version": "2.1.0"
  }
 },
 "nbformat": 4,
 "nbformat_minor": 4
}
